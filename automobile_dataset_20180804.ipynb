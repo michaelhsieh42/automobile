{
 "cells": [
  {
   "cell_type": "markdown",
   "metadata": {},
   "source": [
    "# An attempt to familiarize myself with the automobile dataset using statistical analysis and machine learning.\n",
    "\n",
    "Data source: https://archive.ics.uci.edu/ml/datasets/automobile"
   ]
  },
  {
   "cell_type": "code",
   "execution_count": 132,
   "metadata": {
    "collapsed": true
   },
   "outputs": [],
   "source": [
    "import numpy as np\n",
    "import xgboost as xgb\n",
    "import pandas as pd\n",
    "import matplotlib.pyplot as plt\n",
    "import seaborn as sns\n",
    "import scipy.stats as stats\n",
    "import sklearn.preprocessing as skp\n",
    "import sklearn.metrics as skm\n",
    "import sklearn.model_selection as skms\n",
    "import sklearn.linear_model as sklm\n",
    "import sklearn.svm as sksvm\n",
    "import sklearn.ensemble as sken\n",
    "import statsmodels.api as sm\n",
    "import os, sys\n",
    "%matplotlib inline"
   ]
  },
  {
   "cell_type": "code",
   "execution_count": 10,
   "metadata": {
    "collapsed": true
   },
   "outputs": [],
   "source": [
    "cols = ['symboling', 'normalized-losses', 'make', 'fuel-type', 'aspiration', 'num-of-doors', 'body-style', \n",
    "        'drive-wheels', 'engine-location', 'wheel-base', 'length', 'width', 'height', 'curb-weight', 'engine-type', \n",
    "        'num-of-cylinders', 'engine-size', 'fuel-system', 'bore', 'stroke', 'compression-rate', 'horsepower', \n",
    "        'peak-rpm', 'city-mpg', 'highway-mpg', 'price']\n",
    "df=pd.read_csv('imports-85.data', delimiter=',', names=cols, na_values='?')"
   ]
  },
  {
   "cell_type": "code",
   "execution_count": 5,
   "metadata": {},
   "outputs": [
    {
     "data": {
      "text/html": [
       "<div>\n",
       "<style scoped>\n",
       "    .dataframe tbody tr th:only-of-type {\n",
       "        vertical-align: middle;\n",
       "    }\n",
       "\n",
       "    .dataframe tbody tr th {\n",
       "        vertical-align: top;\n",
       "    }\n",
       "\n",
       "    .dataframe thead th {\n",
       "        text-align: right;\n",
       "    }\n",
       "</style>\n",
       "<table border=\"1\" class=\"dataframe\">\n",
       "  <thead>\n",
       "    <tr style=\"text-align: right;\">\n",
       "      <th></th>\n",
       "      <th>symboling</th>\n",
       "      <th>normalized-losses</th>\n",
       "      <th>make</th>\n",
       "      <th>fuel-type</th>\n",
       "      <th>aspiration</th>\n",
       "      <th>num-of-doors</th>\n",
       "      <th>body-style</th>\n",
       "      <th>drive-wheels</th>\n",
       "      <th>engine-location</th>\n",
       "      <th>wheel-base</th>\n",
       "      <th>...</th>\n",
       "      <th>engine-size</th>\n",
       "      <th>fuel-system</th>\n",
       "      <th>bore</th>\n",
       "      <th>stroke</th>\n",
       "      <th>compression-rate</th>\n",
       "      <th>horsepower</th>\n",
       "      <th>peak-rpm</th>\n",
       "      <th>city-mpg</th>\n",
       "      <th>highway-mpg</th>\n",
       "      <th>price</th>\n",
       "    </tr>\n",
       "  </thead>\n",
       "  <tbody>\n",
       "    <tr>\n",
       "      <th>0</th>\n",
       "      <td>3</td>\n",
       "      <td>NaN</td>\n",
       "      <td>alfa-romero</td>\n",
       "      <td>gas</td>\n",
       "      <td>std</td>\n",
       "      <td>two</td>\n",
       "      <td>convertible</td>\n",
       "      <td>rwd</td>\n",
       "      <td>front</td>\n",
       "      <td>88.6</td>\n",
       "      <td>...</td>\n",
       "      <td>130</td>\n",
       "      <td>mpfi</td>\n",
       "      <td>3.47</td>\n",
       "      <td>2.68</td>\n",
       "      <td>9.0</td>\n",
       "      <td>111.0</td>\n",
       "      <td>5000.0</td>\n",
       "      <td>21</td>\n",
       "      <td>27</td>\n",
       "      <td>13495.0</td>\n",
       "    </tr>\n",
       "    <tr>\n",
       "      <th>1</th>\n",
       "      <td>3</td>\n",
       "      <td>NaN</td>\n",
       "      <td>alfa-romero</td>\n",
       "      <td>gas</td>\n",
       "      <td>std</td>\n",
       "      <td>two</td>\n",
       "      <td>convertible</td>\n",
       "      <td>rwd</td>\n",
       "      <td>front</td>\n",
       "      <td>88.6</td>\n",
       "      <td>...</td>\n",
       "      <td>130</td>\n",
       "      <td>mpfi</td>\n",
       "      <td>3.47</td>\n",
       "      <td>2.68</td>\n",
       "      <td>9.0</td>\n",
       "      <td>111.0</td>\n",
       "      <td>5000.0</td>\n",
       "      <td>21</td>\n",
       "      <td>27</td>\n",
       "      <td>16500.0</td>\n",
       "    </tr>\n",
       "    <tr>\n",
       "      <th>2</th>\n",
       "      <td>1</td>\n",
       "      <td>NaN</td>\n",
       "      <td>alfa-romero</td>\n",
       "      <td>gas</td>\n",
       "      <td>std</td>\n",
       "      <td>two</td>\n",
       "      <td>hatchback</td>\n",
       "      <td>rwd</td>\n",
       "      <td>front</td>\n",
       "      <td>94.5</td>\n",
       "      <td>...</td>\n",
       "      <td>152</td>\n",
       "      <td>mpfi</td>\n",
       "      <td>2.68</td>\n",
       "      <td>3.47</td>\n",
       "      <td>9.0</td>\n",
       "      <td>154.0</td>\n",
       "      <td>5000.0</td>\n",
       "      <td>19</td>\n",
       "      <td>26</td>\n",
       "      <td>16500.0</td>\n",
       "    </tr>\n",
       "    <tr>\n",
       "      <th>3</th>\n",
       "      <td>2</td>\n",
       "      <td>164.0</td>\n",
       "      <td>audi</td>\n",
       "      <td>gas</td>\n",
       "      <td>std</td>\n",
       "      <td>four</td>\n",
       "      <td>sedan</td>\n",
       "      <td>fwd</td>\n",
       "      <td>front</td>\n",
       "      <td>99.8</td>\n",
       "      <td>...</td>\n",
       "      <td>109</td>\n",
       "      <td>mpfi</td>\n",
       "      <td>3.19</td>\n",
       "      <td>3.40</td>\n",
       "      <td>10.0</td>\n",
       "      <td>102.0</td>\n",
       "      <td>5500.0</td>\n",
       "      <td>24</td>\n",
       "      <td>30</td>\n",
       "      <td>13950.0</td>\n",
       "    </tr>\n",
       "    <tr>\n",
       "      <th>4</th>\n",
       "      <td>2</td>\n",
       "      <td>164.0</td>\n",
       "      <td>audi</td>\n",
       "      <td>gas</td>\n",
       "      <td>std</td>\n",
       "      <td>four</td>\n",
       "      <td>sedan</td>\n",
       "      <td>4wd</td>\n",
       "      <td>front</td>\n",
       "      <td>99.4</td>\n",
       "      <td>...</td>\n",
       "      <td>136</td>\n",
       "      <td>mpfi</td>\n",
       "      <td>3.19</td>\n",
       "      <td>3.40</td>\n",
       "      <td>8.0</td>\n",
       "      <td>115.0</td>\n",
       "      <td>5500.0</td>\n",
       "      <td>18</td>\n",
       "      <td>22</td>\n",
       "      <td>17450.0</td>\n",
       "    </tr>\n",
       "  </tbody>\n",
       "</table>\n",
       "<p>5 rows × 26 columns</p>\n",
       "</div>"
      ],
      "text/plain": [
       "   symboling  normalized-losses         make fuel-type aspiration  \\\n",
       "0          3                NaN  alfa-romero       gas        std   \n",
       "1          3                NaN  alfa-romero       gas        std   \n",
       "2          1                NaN  alfa-romero       gas        std   \n",
       "3          2              164.0         audi       gas        std   \n",
       "4          2              164.0         audi       gas        std   \n",
       "\n",
       "  num-of-doors   body-style drive-wheels engine-location  wheel-base   ...     \\\n",
       "0          two  convertible          rwd           front        88.6   ...      \n",
       "1          two  convertible          rwd           front        88.6   ...      \n",
       "2          two    hatchback          rwd           front        94.5   ...      \n",
       "3         four        sedan          fwd           front        99.8   ...      \n",
       "4         four        sedan          4wd           front        99.4   ...      \n",
       "\n",
       "   engine-size  fuel-system  bore  stroke compression-rate horsepower  \\\n",
       "0          130         mpfi  3.47    2.68              9.0      111.0   \n",
       "1          130         mpfi  3.47    2.68              9.0      111.0   \n",
       "2          152         mpfi  2.68    3.47              9.0      154.0   \n",
       "3          109         mpfi  3.19    3.40             10.0      102.0   \n",
       "4          136         mpfi  3.19    3.40              8.0      115.0   \n",
       "\n",
       "   peak-rpm city-mpg  highway-mpg    price  \n",
       "0    5000.0       21           27  13495.0  \n",
       "1    5000.0       21           27  16500.0  \n",
       "2    5000.0       19           26  16500.0  \n",
       "3    5500.0       24           30  13950.0  \n",
       "4    5500.0       18           22  17450.0  \n",
       "\n",
       "[5 rows x 26 columns]"
      ]
     },
     "execution_count": 5,
     "metadata": {},
     "output_type": "execute_result"
    }
   ],
   "source": [
    "df.head()"
   ]
  },
  {
   "cell_type": "code",
   "execution_count": 6,
   "metadata": {},
   "outputs": [
    {
     "data": {
      "text/plain": [
       "(26, (26,))"
      ]
     },
     "execution_count": 6,
     "metadata": {},
     "output_type": "execute_result"
    }
   ],
   "source": [
    "len(cols), df.columns.shape"
   ]
  },
  {
   "cell_type": "code",
   "execution_count": 7,
   "metadata": {},
   "outputs": [
    {
     "data": {
      "text/html": [
       "<div>\n",
       "<style scoped>\n",
       "    .dataframe tbody tr th:only-of-type {\n",
       "        vertical-align: middle;\n",
       "    }\n",
       "\n",
       "    .dataframe tbody tr th {\n",
       "        vertical-align: top;\n",
       "    }\n",
       "\n",
       "    .dataframe thead th {\n",
       "        text-align: right;\n",
       "    }\n",
       "</style>\n",
       "<table border=\"1\" class=\"dataframe\">\n",
       "  <thead>\n",
       "    <tr style=\"text-align: right;\">\n",
       "      <th></th>\n",
       "      <th>symboling</th>\n",
       "      <th>normalized-losses</th>\n",
       "      <th>wheel-base</th>\n",
       "      <th>length</th>\n",
       "      <th>width</th>\n",
       "      <th>height</th>\n",
       "      <th>curb-weight</th>\n",
       "      <th>engine-size</th>\n",
       "      <th>bore</th>\n",
       "      <th>stroke</th>\n",
       "      <th>compression-rate</th>\n",
       "      <th>horsepower</th>\n",
       "      <th>peak-rpm</th>\n",
       "      <th>city-mpg</th>\n",
       "      <th>highway-mpg</th>\n",
       "      <th>price</th>\n",
       "    </tr>\n",
       "  </thead>\n",
       "  <tbody>\n",
       "    <tr>\n",
       "      <th>symboling</th>\n",
       "      <td>1.000000</td>\n",
       "      <td>0.528667</td>\n",
       "      <td>-0.531954</td>\n",
       "      <td>-0.357612</td>\n",
       "      <td>-0.232919</td>\n",
       "      <td>-0.541038</td>\n",
       "      <td>-0.227691</td>\n",
       "      <td>-0.105790</td>\n",
       "      <td>-0.134205</td>\n",
       "      <td>-0.008965</td>\n",
       "      <td>-0.178515</td>\n",
       "      <td>0.071622</td>\n",
       "      <td>0.274573</td>\n",
       "      <td>-0.035823</td>\n",
       "      <td>0.034606</td>\n",
       "      <td>-0.082391</td>\n",
       "    </tr>\n",
       "    <tr>\n",
       "      <th>normalized-losses</th>\n",
       "      <td>0.528667</td>\n",
       "      <td>1.000000</td>\n",
       "      <td>-0.074362</td>\n",
       "      <td>0.023220</td>\n",
       "      <td>0.105073</td>\n",
       "      <td>-0.432335</td>\n",
       "      <td>0.119893</td>\n",
       "      <td>0.167365</td>\n",
       "      <td>-0.036167</td>\n",
       "      <td>0.065627</td>\n",
       "      <td>-0.132654</td>\n",
       "      <td>0.295772</td>\n",
       "      <td>0.264597</td>\n",
       "      <td>-0.258502</td>\n",
       "      <td>-0.210768</td>\n",
       "      <td>0.203254</td>\n",
       "    </tr>\n",
       "    <tr>\n",
       "      <th>wheel-base</th>\n",
       "      <td>-0.531954</td>\n",
       "      <td>-0.074362</td>\n",
       "      <td>1.000000</td>\n",
       "      <td>0.874587</td>\n",
       "      <td>0.795144</td>\n",
       "      <td>0.589435</td>\n",
       "      <td>0.776386</td>\n",
       "      <td>0.569329</td>\n",
       "      <td>0.490378</td>\n",
       "      <td>0.161477</td>\n",
       "      <td>0.249786</td>\n",
       "      <td>0.352297</td>\n",
       "      <td>-0.361052</td>\n",
       "      <td>-0.470414</td>\n",
       "      <td>-0.544082</td>\n",
       "      <td>0.584642</td>\n",
       "    </tr>\n",
       "    <tr>\n",
       "      <th>length</th>\n",
       "      <td>-0.357612</td>\n",
       "      <td>0.023220</td>\n",
       "      <td>0.874587</td>\n",
       "      <td>1.000000</td>\n",
       "      <td>0.841118</td>\n",
       "      <td>0.491029</td>\n",
       "      <td>0.877728</td>\n",
       "      <td>0.683360</td>\n",
       "      <td>0.607480</td>\n",
       "      <td>0.129739</td>\n",
       "      <td>0.158414</td>\n",
       "      <td>0.555003</td>\n",
       "      <td>-0.287325</td>\n",
       "      <td>-0.670909</td>\n",
       "      <td>-0.704662</td>\n",
       "      <td>0.690628</td>\n",
       "    </tr>\n",
       "    <tr>\n",
       "      <th>width</th>\n",
       "      <td>-0.232919</td>\n",
       "      <td>0.105073</td>\n",
       "      <td>0.795144</td>\n",
       "      <td>0.841118</td>\n",
       "      <td>1.000000</td>\n",
       "      <td>0.279210</td>\n",
       "      <td>0.867032</td>\n",
       "      <td>0.735433</td>\n",
       "      <td>0.559204</td>\n",
       "      <td>0.182956</td>\n",
       "      <td>0.181129</td>\n",
       "      <td>0.642482</td>\n",
       "      <td>-0.219957</td>\n",
       "      <td>-0.642704</td>\n",
       "      <td>-0.677218</td>\n",
       "      <td>0.751265</td>\n",
       "    </tr>\n",
       "    <tr>\n",
       "      <th>height</th>\n",
       "      <td>-0.541038</td>\n",
       "      <td>-0.432335</td>\n",
       "      <td>0.589435</td>\n",
       "      <td>0.491029</td>\n",
       "      <td>0.279210</td>\n",
       "      <td>1.000000</td>\n",
       "      <td>0.295572</td>\n",
       "      <td>0.067149</td>\n",
       "      <td>0.176195</td>\n",
       "      <td>-0.056999</td>\n",
       "      <td>0.261214</td>\n",
       "      <td>-0.110711</td>\n",
       "      <td>-0.322272</td>\n",
       "      <td>-0.048640</td>\n",
       "      <td>-0.107358</td>\n",
       "      <td>0.135486</td>\n",
       "    </tr>\n",
       "    <tr>\n",
       "      <th>curb-weight</th>\n",
       "      <td>-0.227691</td>\n",
       "      <td>0.119893</td>\n",
       "      <td>0.776386</td>\n",
       "      <td>0.877728</td>\n",
       "      <td>0.867032</td>\n",
       "      <td>0.295572</td>\n",
       "      <td>1.000000</td>\n",
       "      <td>0.850594</td>\n",
       "      <td>0.649045</td>\n",
       "      <td>0.168929</td>\n",
       "      <td>0.151362</td>\n",
       "      <td>0.751034</td>\n",
       "      <td>-0.266306</td>\n",
       "      <td>-0.757414</td>\n",
       "      <td>-0.797465</td>\n",
       "      <td>0.834415</td>\n",
       "    </tr>\n",
       "    <tr>\n",
       "      <th>engine-size</th>\n",
       "      <td>-0.105790</td>\n",
       "      <td>0.167365</td>\n",
       "      <td>0.569329</td>\n",
       "      <td>0.683360</td>\n",
       "      <td>0.735433</td>\n",
       "      <td>0.067149</td>\n",
       "      <td>0.850594</td>\n",
       "      <td>1.000000</td>\n",
       "      <td>0.594090</td>\n",
       "      <td>0.206675</td>\n",
       "      <td>0.028971</td>\n",
       "      <td>0.810773</td>\n",
       "      <td>-0.244618</td>\n",
       "      <td>-0.653658</td>\n",
       "      <td>-0.677470</td>\n",
       "      <td>0.872335</td>\n",
       "    </tr>\n",
       "    <tr>\n",
       "      <th>bore</th>\n",
       "      <td>-0.134205</td>\n",
       "      <td>-0.036167</td>\n",
       "      <td>0.490378</td>\n",
       "      <td>0.607480</td>\n",
       "      <td>0.559204</td>\n",
       "      <td>0.176195</td>\n",
       "      <td>0.649045</td>\n",
       "      <td>0.594090</td>\n",
       "      <td>1.000000</td>\n",
       "      <td>-0.055909</td>\n",
       "      <td>0.005203</td>\n",
       "      <td>0.577273</td>\n",
       "      <td>-0.264269</td>\n",
       "      <td>-0.594584</td>\n",
       "      <td>-0.594572</td>\n",
       "      <td>0.543436</td>\n",
       "    </tr>\n",
       "    <tr>\n",
       "      <th>stroke</th>\n",
       "      <td>-0.008965</td>\n",
       "      <td>0.065627</td>\n",
       "      <td>0.161477</td>\n",
       "      <td>0.129739</td>\n",
       "      <td>0.182956</td>\n",
       "      <td>-0.056999</td>\n",
       "      <td>0.168929</td>\n",
       "      <td>0.206675</td>\n",
       "      <td>-0.055909</td>\n",
       "      <td>1.000000</td>\n",
       "      <td>0.186170</td>\n",
       "      <td>0.090254</td>\n",
       "      <td>-0.071493</td>\n",
       "      <td>-0.042906</td>\n",
       "      <td>-0.044528</td>\n",
       "      <td>0.082310</td>\n",
       "    </tr>\n",
       "    <tr>\n",
       "      <th>compression-rate</th>\n",
       "      <td>-0.178515</td>\n",
       "      <td>-0.132654</td>\n",
       "      <td>0.249786</td>\n",
       "      <td>0.158414</td>\n",
       "      <td>0.181129</td>\n",
       "      <td>0.261214</td>\n",
       "      <td>0.151362</td>\n",
       "      <td>0.028971</td>\n",
       "      <td>0.005203</td>\n",
       "      <td>0.186170</td>\n",
       "      <td>1.000000</td>\n",
       "      <td>-0.205874</td>\n",
       "      <td>-0.436221</td>\n",
       "      <td>0.324701</td>\n",
       "      <td>0.265201</td>\n",
       "      <td>0.071107</td>\n",
       "    </tr>\n",
       "    <tr>\n",
       "      <th>horsepower</th>\n",
       "      <td>0.071622</td>\n",
       "      <td>0.295772</td>\n",
       "      <td>0.352297</td>\n",
       "      <td>0.555003</td>\n",
       "      <td>0.642482</td>\n",
       "      <td>-0.110711</td>\n",
       "      <td>0.751034</td>\n",
       "      <td>0.810773</td>\n",
       "      <td>0.577273</td>\n",
       "      <td>0.090254</td>\n",
       "      <td>-0.205874</td>\n",
       "      <td>1.000000</td>\n",
       "      <td>0.130971</td>\n",
       "      <td>-0.803620</td>\n",
       "      <td>-0.770908</td>\n",
       "      <td>0.810533</td>\n",
       "    </tr>\n",
       "    <tr>\n",
       "      <th>peak-rpm</th>\n",
       "      <td>0.274573</td>\n",
       "      <td>0.264597</td>\n",
       "      <td>-0.361052</td>\n",
       "      <td>-0.287325</td>\n",
       "      <td>-0.219957</td>\n",
       "      <td>-0.322272</td>\n",
       "      <td>-0.266306</td>\n",
       "      <td>-0.244618</td>\n",
       "      <td>-0.264269</td>\n",
       "      <td>-0.071493</td>\n",
       "      <td>-0.436221</td>\n",
       "      <td>0.130971</td>\n",
       "      <td>1.000000</td>\n",
       "      <td>-0.113788</td>\n",
       "      <td>-0.054257</td>\n",
       "      <td>-0.101649</td>\n",
       "    </tr>\n",
       "    <tr>\n",
       "      <th>city-mpg</th>\n",
       "      <td>-0.035823</td>\n",
       "      <td>-0.258502</td>\n",
       "      <td>-0.470414</td>\n",
       "      <td>-0.670909</td>\n",
       "      <td>-0.642704</td>\n",
       "      <td>-0.048640</td>\n",
       "      <td>-0.757414</td>\n",
       "      <td>-0.653658</td>\n",
       "      <td>-0.594584</td>\n",
       "      <td>-0.042906</td>\n",
       "      <td>0.324701</td>\n",
       "      <td>-0.803620</td>\n",
       "      <td>-0.113788</td>\n",
       "      <td>1.000000</td>\n",
       "      <td>0.971337</td>\n",
       "      <td>-0.686571</td>\n",
       "    </tr>\n",
       "    <tr>\n",
       "      <th>highway-mpg</th>\n",
       "      <td>0.034606</td>\n",
       "      <td>-0.210768</td>\n",
       "      <td>-0.544082</td>\n",
       "      <td>-0.704662</td>\n",
       "      <td>-0.677218</td>\n",
       "      <td>-0.107358</td>\n",
       "      <td>-0.797465</td>\n",
       "      <td>-0.677470</td>\n",
       "      <td>-0.594572</td>\n",
       "      <td>-0.044528</td>\n",
       "      <td>0.265201</td>\n",
       "      <td>-0.770908</td>\n",
       "      <td>-0.054257</td>\n",
       "      <td>0.971337</td>\n",
       "      <td>1.000000</td>\n",
       "      <td>-0.704692</td>\n",
       "    </tr>\n",
       "    <tr>\n",
       "      <th>price</th>\n",
       "      <td>-0.082391</td>\n",
       "      <td>0.203254</td>\n",
       "      <td>0.584642</td>\n",
       "      <td>0.690628</td>\n",
       "      <td>0.751265</td>\n",
       "      <td>0.135486</td>\n",
       "      <td>0.834415</td>\n",
       "      <td>0.872335</td>\n",
       "      <td>0.543436</td>\n",
       "      <td>0.082310</td>\n",
       "      <td>0.071107</td>\n",
       "      <td>0.810533</td>\n",
       "      <td>-0.101649</td>\n",
       "      <td>-0.686571</td>\n",
       "      <td>-0.704692</td>\n",
       "      <td>1.000000</td>\n",
       "    </tr>\n",
       "  </tbody>\n",
       "</table>\n",
       "</div>"
      ],
      "text/plain": [
       "                   symboling  normalized-losses  wheel-base    length  \\\n",
       "symboling           1.000000           0.528667   -0.531954 -0.357612   \n",
       "normalized-losses   0.528667           1.000000   -0.074362  0.023220   \n",
       "wheel-base         -0.531954          -0.074362    1.000000  0.874587   \n",
       "length             -0.357612           0.023220    0.874587  1.000000   \n",
       "width              -0.232919           0.105073    0.795144  0.841118   \n",
       "height             -0.541038          -0.432335    0.589435  0.491029   \n",
       "curb-weight        -0.227691           0.119893    0.776386  0.877728   \n",
       "engine-size        -0.105790           0.167365    0.569329  0.683360   \n",
       "bore               -0.134205          -0.036167    0.490378  0.607480   \n",
       "stroke             -0.008965           0.065627    0.161477  0.129739   \n",
       "compression-rate   -0.178515          -0.132654    0.249786  0.158414   \n",
       "horsepower          0.071622           0.295772    0.352297  0.555003   \n",
       "peak-rpm            0.274573           0.264597   -0.361052 -0.287325   \n",
       "city-mpg           -0.035823          -0.258502   -0.470414 -0.670909   \n",
       "highway-mpg         0.034606          -0.210768   -0.544082 -0.704662   \n",
       "price              -0.082391           0.203254    0.584642  0.690628   \n",
       "\n",
       "                      width    height  curb-weight  engine-size      bore  \\\n",
       "symboling         -0.232919 -0.541038    -0.227691    -0.105790 -0.134205   \n",
       "normalized-losses  0.105073 -0.432335     0.119893     0.167365 -0.036167   \n",
       "wheel-base         0.795144  0.589435     0.776386     0.569329  0.490378   \n",
       "length             0.841118  0.491029     0.877728     0.683360  0.607480   \n",
       "width              1.000000  0.279210     0.867032     0.735433  0.559204   \n",
       "height             0.279210  1.000000     0.295572     0.067149  0.176195   \n",
       "curb-weight        0.867032  0.295572     1.000000     0.850594  0.649045   \n",
       "engine-size        0.735433  0.067149     0.850594     1.000000  0.594090   \n",
       "bore               0.559204  0.176195     0.649045     0.594090  1.000000   \n",
       "stroke             0.182956 -0.056999     0.168929     0.206675 -0.055909   \n",
       "compression-rate   0.181129  0.261214     0.151362     0.028971  0.005203   \n",
       "horsepower         0.642482 -0.110711     0.751034     0.810773  0.577273   \n",
       "peak-rpm          -0.219957 -0.322272    -0.266306    -0.244618 -0.264269   \n",
       "city-mpg          -0.642704 -0.048640    -0.757414    -0.653658 -0.594584   \n",
       "highway-mpg       -0.677218 -0.107358    -0.797465    -0.677470 -0.594572   \n",
       "price              0.751265  0.135486     0.834415     0.872335  0.543436   \n",
       "\n",
       "                     stroke  compression-rate  horsepower  peak-rpm  city-mpg  \\\n",
       "symboling         -0.008965         -0.178515    0.071622  0.274573 -0.035823   \n",
       "normalized-losses  0.065627         -0.132654    0.295772  0.264597 -0.258502   \n",
       "wheel-base         0.161477          0.249786    0.352297 -0.361052 -0.470414   \n",
       "length             0.129739          0.158414    0.555003 -0.287325 -0.670909   \n",
       "width              0.182956          0.181129    0.642482 -0.219957 -0.642704   \n",
       "height            -0.056999          0.261214   -0.110711 -0.322272 -0.048640   \n",
       "curb-weight        0.168929          0.151362    0.751034 -0.266306 -0.757414   \n",
       "engine-size        0.206675          0.028971    0.810773 -0.244618 -0.653658   \n",
       "bore              -0.055909          0.005203    0.577273 -0.264269 -0.594584   \n",
       "stroke             1.000000          0.186170    0.090254 -0.071493 -0.042906   \n",
       "compression-rate   0.186170          1.000000   -0.205874 -0.436221  0.324701   \n",
       "horsepower         0.090254         -0.205874    1.000000  0.130971 -0.803620   \n",
       "peak-rpm          -0.071493         -0.436221    0.130971  1.000000 -0.113788   \n",
       "city-mpg          -0.042906          0.324701   -0.803620 -0.113788  1.000000   \n",
       "highway-mpg       -0.044528          0.265201   -0.770908 -0.054257  0.971337   \n",
       "price              0.082310          0.071107    0.810533 -0.101649 -0.686571   \n",
       "\n",
       "                   highway-mpg     price  \n",
       "symboling             0.034606 -0.082391  \n",
       "normalized-losses    -0.210768  0.203254  \n",
       "wheel-base           -0.544082  0.584642  \n",
       "length               -0.704662  0.690628  \n",
       "width                -0.677218  0.751265  \n",
       "height               -0.107358  0.135486  \n",
       "curb-weight          -0.797465  0.834415  \n",
       "engine-size          -0.677470  0.872335  \n",
       "bore                 -0.594572  0.543436  \n",
       "stroke               -0.044528  0.082310  \n",
       "compression-rate      0.265201  0.071107  \n",
       "horsepower           -0.770908  0.810533  \n",
       "peak-rpm             -0.054257 -0.101649  \n",
       "city-mpg              0.971337 -0.686571  \n",
       "highway-mpg           1.000000 -0.704692  \n",
       "price                -0.704692  1.000000  "
      ]
     },
     "execution_count": 7,
     "metadata": {},
     "output_type": "execute_result"
    }
   ],
   "source": [
    "df.corr()"
   ]
  },
  {
   "cell_type": "code",
   "execution_count": 12,
   "metadata": {},
   "outputs": [
    {
     "data": {
      "text/plain": [
       "<matplotlib.axes._subplots.AxesSubplot at 0x14972a8b5c0>"
      ]
     },
     "execution_count": 12,
     "metadata": {},
     "output_type": "execute_result"
    },
    {
     "data": {
      "image/png": "[encoded data removed]",
      "text/plain": [
       "<Figure size 432x288 with 2 Axes>"
      ]
     },
     "metadata": {},
     "output_type": "display_data"
    }
   ],
   "source": [
    "sns.heatmap(df.corr())"
   ]
  },
  {
   "cell_type": "markdown",
   "metadata": {},
   "source": [
    "clustering won't work with NaN. Consider dropping rows that contain nan in continuous variables, though it would reduce the sample size."
   ]
  },
  {
   "cell_type": "code",
   "execution_count": 253,
   "metadata": {},
   "outputs": [
    {
     "data": {
      "image/png": "[encoded data removed]",
      "text/plain": [
       "<Figure size 864x576 with 4 Axes>"
      ]
     },
     "metadata": {},
     "output_type": "display_data"
    }
   ],
   "source": [
    "data=df[df.corr().columns].dropna().copy()\n",
    "standardizer=skp.StandardScaler()\n",
    "data[df.corr().columns]=standardizer.fit_transform(data)\n",
    "g = sns.clustermap(data.T, method='average', metric='cityblock', figsize=(12,8))"
   ]
  },
  {
   "cell_type": "markdown",
   "metadata": {},
   "source": [
    "### Hierarchical clustering shows some explicit correlation between physical specifications of the vehicles."
   ]
  },
  {
   "cell_type": "code",
   "execution_count": 40,
   "metadata": {},
   "outputs": [
    {
     "data": {
      "text/html": [
       "<div>\n",
       "<style scoped>\n",
       "    .dataframe tbody tr th:only-of-type {\n",
       "        vertical-align: middle;\n",
       "    }\n",
       "\n",
       "    .dataframe tbody tr th {\n",
       "        vertical-align: top;\n",
       "    }\n",
       "\n",
       "    .dataframe thead th {\n",
       "        text-align: right;\n",
       "    }\n",
       "</style>\n",
       "<table border=\"1\" class=\"dataframe\">\n",
       "  <thead>\n",
       "    <tr style=\"text-align: right;\">\n",
       "      <th></th>\n",
       "      <th>symboling</th>\n",
       "      <th>normalized-losses</th>\n",
       "      <th>wheel-base</th>\n",
       "      <th>length</th>\n",
       "      <th>width</th>\n",
       "      <th>height</th>\n",
       "      <th>curb-weight</th>\n",
       "      <th>engine-size</th>\n",
       "      <th>bore</th>\n",
       "      <th>stroke</th>\n",
       "      <th>compression-rate</th>\n",
       "      <th>horsepower</th>\n",
       "      <th>peak-rpm</th>\n",
       "      <th>city-mpg</th>\n",
       "      <th>highway-mpg</th>\n",
       "      <th>price</th>\n",
       "    </tr>\n",
       "  </thead>\n",
       "  <tbody>\n",
       "    <tr>\n",
       "      <th>3</th>\n",
       "      <td>1.064693</td>\n",
       "      <td>1.203122</td>\n",
       "      <td>0.303904</td>\n",
       "      <td>0.371817</td>\n",
       "      <td>0.311066</td>\n",
       "      <td>0.185615</td>\n",
       "      <td>-0.255427</td>\n",
       "      <td>-0.332951</td>\n",
       "      <td>-0.406878</td>\n",
       "      <td>0.554700</td>\n",
       "      <td>-0.037497</td>\n",
       "      <td>0.200623</td>\n",
       "      <td>0.827343</td>\n",
       "      <td>-0.413424</td>\n",
       "      <td>-0.322196</td>\n",
       "      <td>0.431502</td>\n",
       "    </tr>\n",
       "    <tr>\n",
       "      <th>4</th>\n",
       "      <td>1.064693</td>\n",
       "      <td>1.203122</td>\n",
       "      <td>0.226198</td>\n",
       "      <td>0.371817</td>\n",
       "      <td>0.414111</td>\n",
       "      <td>0.185615</td>\n",
       "      <td>0.760441</td>\n",
       "      <td>0.557668</td>\n",
       "      <td>-0.406878</td>\n",
       "      <td>0.554700</td>\n",
       "      <td>-0.554245</td>\n",
       "      <td>0.626436</td>\n",
       "      <td>0.827343</td>\n",
       "      <td>-1.403168</td>\n",
       "      <td>-1.568149</td>\n",
       "      <td>1.030260</td>\n",
       "    </tr>\n",
       "    <tr>\n",
       "      <th>6</th>\n",
       "      <td>0.221372</td>\n",
       "      <td>1.034065</td>\n",
       "      <td>1.469495</td>\n",
       "      <td>1.770271</td>\n",
       "      <td>2.990229</td>\n",
       "      <td>0.802496</td>\n",
       "      <td>0.802161</td>\n",
       "      <td>0.557668</td>\n",
       "      <td>-0.406878</td>\n",
       "      <td>0.554700</td>\n",
       "      <td>-0.425058</td>\n",
       "      <td>0.462662</td>\n",
       "      <td>0.827343</td>\n",
       "      <td>-1.238211</td>\n",
       "      <td>-1.100916</td>\n",
       "      <td>1.074739</td>\n",
       "    </tr>\n",
       "    <tr>\n",
       "      <th>8</th>\n",
       "      <td>0.221372</td>\n",
       "      <td>1.034065</td>\n",
       "      <td>1.469495</td>\n",
       "      <td>1.770271</td>\n",
       "      <td>2.990229</td>\n",
       "      <td>0.890622</td>\n",
       "      <td>1.306966</td>\n",
       "      <td>0.392738</td>\n",
       "      <td>-0.632009</td>\n",
       "      <td>0.554700</td>\n",
       "      <td>-0.476733</td>\n",
       "      <td>1.445307</td>\n",
       "      <td>0.827343</td>\n",
       "      <td>-1.568125</td>\n",
       "      <td>-1.879637</td>\n",
       "      <td>2.129408</td>\n",
       "    </tr>\n",
       "    <tr>\n",
       "      <th>10</th>\n",
       "      <td>1.064693</td>\n",
       "      <td>1.992055</td>\n",
       "      <td>0.575875</td>\n",
       "      <td>0.389189</td>\n",
       "      <td>-0.410247</td>\n",
       "      <td>0.185615</td>\n",
       "      <td>-0.134441</td>\n",
       "      <td>-0.365937</td>\n",
       "      <td>0.756300</td>\n",
       "      <td>-1.491064</td>\n",
       "      <td>-0.347546</td>\n",
       "      <td>0.167868</td>\n",
       "      <td>1.474126</td>\n",
       "      <td>-0.578382</td>\n",
       "      <td>-0.477940</td>\n",
       "      <td>0.855765</td>\n",
       "    </tr>\n",
       "  </tbody>\n",
       "</table>\n",
       "</div>"
      ],
      "text/plain": [
       "    symboling  normalized-losses  wheel-base    length     width    height  \\\n",
       "3    1.064693           1.203122    0.303904  0.371817  0.311066  0.185615   \n",
       "4    1.064693           1.203122    0.226198  0.371817  0.414111  0.185615   \n",
       "6    0.221372           1.034065    1.469495  1.770271  2.990229  0.802496   \n",
       "8    0.221372           1.034065    1.469495  1.770271  2.990229  0.890622   \n",
       "10   1.064693           1.992055    0.575875  0.389189 -0.410247  0.185615   \n",
       "\n",
       "    curb-weight  engine-size      bore    stroke  compression-rate  \\\n",
       "3     -0.255427    -0.332951 -0.406878  0.554700         -0.037497   \n",
       "4      0.760441     0.557668 -0.406878  0.554700         -0.554245   \n",
       "6      0.802161     0.557668 -0.406878  0.554700         -0.425058   \n",
       "8      1.306966     0.392738 -0.632009  0.554700         -0.476733   \n",
       "10    -0.134441    -0.365937  0.756300 -1.491064         -0.347546   \n",
       "\n",
       "    horsepower  peak-rpm  city-mpg  highway-mpg     price  \n",
       "3     0.200623  0.827343 -0.413424    -0.322196  0.431502  \n",
       "4     0.626436  0.827343 -1.403168    -1.568149  1.030260  \n",
       "6     0.462662  0.827343 -1.238211    -1.100916  1.074739  \n",
       "8     1.445307  0.827343 -1.568125    -1.879637  2.129408  \n",
       "10    0.167868  1.474126 -0.578382    -0.477940  0.855765  "
      ]
     },
     "execution_count": 40,
     "metadata": {},
     "output_type": "execute_result"
    }
   ],
   "source": [
    "data.head()"
   ]
  },
  {
   "cell_type": "code",
   "execution_count": 79,
   "metadata": {
    "collapsed": true
   },
   "outputs": [],
   "source": [
    "x_cols=df.corr().columns.drop('price')\n",
    "y_col='price'\n",
    "X=data[x_cols]\n",
    "X=sm.add_constant(X)\n",
    "y=data[y_col]"
   ]
  },
  {
   "cell_type": "code",
   "execution_count": 52,
   "metadata": {
    "scrolled": true
   },
   "outputs": [
    {
     "data": {
      "text/plain": [
       "((205, 26), (160, 16))"
      ]
     },
     "execution_count": 52,
     "metadata": {},
     "output_type": "execute_result"
    }
   ],
   "source": [
    "df.shape, X.shape"
   ]
  },
  {
   "cell_type": "markdown",
   "metadata": {},
   "source": [
    "### We can verify it again with a linear regression model "
   ]
  },
  {
   "cell_type": "code",
   "execution_count": 106,
   "metadata": {
    "scrolled": false
   },
   "outputs": [
    {
     "name": "stdout",
     "output_type": "stream",
     "text": [
      "                            OLS Regression Results                            \n",
      "==============================================================================\n",
      "Dep. Variable:                  price   R-squared:                       0.851\n",
      "Model:                            OLS   Adj. R-squared:                  0.835\n",
      "Method:                 Least Squares   F-statistic:                     54.82\n",
      "Date:                Sat, 04 Aug 2018   Prob (F-statistic):           9.26e-52\n",
      "Time:                        19:59:36   Log-Likelihood:                -74.732\n",
      "No. Observations:                 160   AIC:                             181.5\n",
      "Df Residuals:                     144   BIC:                             230.7\n",
      "Df Model:                          15                                         \n",
      "Covariance Type:            nonrobust                                         \n",
      "=====================================================================================\n",
      "                        coef    std err          t      P>|t|      [0.025      0.975]\n",
      "-------------------------------------------------------------------------------------\n",
      "const              4.857e-17      0.032   1.51e-15      1.000      -0.064       0.064\n",
      "symboling             0.0162      0.050      0.322      0.748      -0.083       0.116\n",
      "normalized-losses     0.0433      0.045      0.953      0.342      -0.047       0.133\n",
      "wheel-base            0.1743      0.092      1.894      0.060      -0.008       0.356\n",
      "length               -0.1822      0.092     -1.975      0.050      -0.365       0.000\n",
      "width                 0.2547      0.079      3.209      0.002       0.098       0.412\n",
      "height                0.0151      0.053      0.284      0.776      -0.090       0.120\n",
      "curb-weight           0.4176      0.132      3.166      0.002       0.157       0.678\n",
      "engine-size           0.2589      0.096      2.683      0.008       0.068       0.450\n",
      "bore                 -0.0827      0.049     -1.676      0.096      -0.180       0.015\n",
      "stroke               -0.0923      0.039     -2.358      0.020      -0.170      -0.015\n",
      "compression-rate      0.0689      0.052      1.334      0.184      -0.033       0.171\n",
      "horsepower            0.1363      0.086      1.576      0.117      -0.035       0.307\n",
      "peak-rpm              0.0598      0.045      1.327      0.186      -0.029       0.149\n",
      "city-mpg              0.0198      0.163      0.121      0.904      -0.303       0.343\n",
      "highway-mpg          -0.0148      0.155     -0.095      0.924      -0.322       0.292\n",
      "==============================================================================\n",
      "Omnibus:                       11.600   Durbin-Watson:                   0.778\n",
      "Prob(Omnibus):                  0.003   Jarque-Bera (JB):               14.931\n",
      "Skew:                           0.465   Prob(JB):                     0.000572\n",
      "Kurtosis:                       4.173   Cond. No.                         18.3\n",
      "==============================================================================\n",
      "\n",
      "Warnings:\n",
      "[1] Standard Errors assume that the covariance matrix of the errors is correctly specified.\n"
     ]
    }
   ],
   "source": [
    "results = sm.OLS(y,X).fit()\n",
    "print(results.summary())"
   ]
  },
  {
   "cell_type": "markdown",
   "metadata": {},
   "source": [
    "## To include categorical variables, they need to be coded properly. Here, one hot coding is used."
   ]
  },
  {
   "cell_type": "code",
   "execution_count": 146,
   "metadata": {},
   "outputs": [
    {
     "data": {
      "text/plain": [
       "Index(['make', 'fuel-type', 'aspiration', 'num-of-doors', 'body-style',\n",
       "       'drive-wheels', 'engine-location', 'engine-type', 'num-of-cylinders',\n",
       "       'fuel-system'],\n",
       "      dtype='object')"
      ]
     },
     "execution_count": 146,
     "metadata": {},
     "output_type": "execute_result"
    }
   ],
   "source": [
    "df.columns[df.dtypes=='object']"
   ]
  },
  {
   "cell_type": "code",
   "execution_count": 155,
   "metadata": {
    "scrolled": true
   },
   "outputs": [
    {
     "name": "stdout",
     "output_type": "stream",
     "text": [
      "Index(['make', 'fuel-type', 'aspiration', 'num-of-doors', 'body-style',\n",
      "       'drive-wheels', 'engine-location', 'engine-type', 'num-of-cylinders',\n",
      "       'fuel-system'],\n",
      "      dtype='object')\n",
      "Index(['symboling', 'normalized-losses', 'wheel-base', 'length', 'width',\n",
      "       'height', 'curb-weight', 'engine-size', 'bore', 'stroke',\n",
      "       'compression-rate', 'horsepower', 'peak-rpm', 'city-mpg', 'highway-mpg',\n",
      "       'price'],\n",
      "      dtype='object')\n"
     ]
    }
   ],
   "source": [
    "'''\n",
    "cols = ['symboling', 'normalized-losses', 'make', 'fuel-type', 'aspiration', 'num-of-doors', 'body-style', \n",
    "        'drive-wheels', 'engine-location', 'wheel-base', 'length', 'width', 'height', 'curb-weight', 'engine-type', \n",
    "        'num-of-cylinders', 'engine-size', 'fuel-system', 'bore', 'stroke', 'compression-rate', 'horsepower', \n",
    "        'peak-rpm', 'city-mpg', 'highway-mpg']\n",
    "'''\n",
    "cat_cols=df.columns[df.dtypes=='object']\n",
    "cont_cols=df.columns[df.dtypes!='object']\n",
    "print(cat_cols)\n",
    "print(cont_cols)\n",
    "#new=pd.get_dummies(df[cat_cols])\n",
    "#print(new.shape)\n",
    "#new"
   ]
  },
  {
   "cell_type": "code",
   "execution_count": 204,
   "metadata": {
    "collapsed": true
   },
   "outputs": [],
   "source": [
    "df_new=df.dropna()\n",
    "new=pd.get_dummies(df_new[cat_cols])\n",
    "tmp=df_new[cont_cols].copy()\n",
    "standardizer=skp.StandardScaler()\n",
    "tmp[cont_cols]=standardizer.fit_transform(tmp.values)\n",
    "df_new=pd.concat([tmp, new], axis=1)\n",
    "new_cols=cont_cols.drop('price').tolist()+new.columns.tolist()"
   ]
  },
  {
   "cell_type": "code",
   "execution_count": 174,
   "metadata": {
    "scrolled": true
   },
   "outputs": [
    {
     "data": {
      "text/plain": [
       "['symboling',\n",
       " 'normalized-losses',\n",
       " 'wheel-base',\n",
       " 'length',\n",
       " 'width',\n",
       " 'height',\n",
       " 'curb-weight',\n",
       " 'engine-size',\n",
       " 'bore',\n",
       " 'stroke',\n",
       " 'compression-rate',\n",
       " 'horsepower',\n",
       " 'peak-rpm',\n",
       " 'city-mpg',\n",
       " 'highway-mpg',\n",
       " 'make_audi',\n",
       " 'make_bmw',\n",
       " 'make_chevrolet',\n",
       " 'make_dodge',\n",
       " 'make_honda',\n",
       " 'make_jaguar',\n",
       " 'make_mazda',\n",
       " 'make_mercedes-benz',\n",
       " 'make_mitsubishi',\n",
       " 'make_nissan',\n",
       " 'make_peugot',\n",
       " 'make_plymouth',\n",
       " 'make_porsche',\n",
       " 'make_saab',\n",
       " 'make_subaru',\n",
       " 'make_toyota',\n",
       " 'make_volkswagen',\n",
       " 'make_volvo',\n",
       " 'fuel-type_diesel',\n",
       " 'fuel-type_gas',\n",
       " 'aspiration_std',\n",
       " 'aspiration_turbo',\n",
       " 'num-of-doors_four',\n",
       " 'num-of-doors_two',\n",
       " 'body-style_convertible',\n",
       " 'body-style_hardtop',\n",
       " 'body-style_hatchback',\n",
       " 'body-style_sedan',\n",
       " 'body-style_wagon',\n",
       " 'drive-wheels_4wd',\n",
       " 'drive-wheels_fwd',\n",
       " 'drive-wheels_rwd',\n",
       " 'engine-location_front',\n",
       " 'engine-type_dohc',\n",
       " 'engine-type_l',\n",
       " 'engine-type_ohc',\n",
       " 'engine-type_ohcf',\n",
       " 'engine-type_ohcv',\n",
       " 'num-of-cylinders_eight',\n",
       " 'num-of-cylinders_five',\n",
       " 'num-of-cylinders_four',\n",
       " 'num-of-cylinders_six',\n",
       " 'num-of-cylinders_three',\n",
       " 'fuel-system_1bbl',\n",
       " 'fuel-system_2bbl',\n",
       " 'fuel-system_idi',\n",
       " 'fuel-system_mfi',\n",
       " 'fuel-system_mpfi',\n",
       " 'fuel-system_spdi']"
      ]
     },
     "execution_count": 174,
     "metadata": {},
     "output_type": "execute_result"
    }
   ],
   "source": [
    "new_cols"
   ]
  },
  {
   "cell_type": "markdown",
   "metadata": {},
   "source": [
    "# Now on to the machine learning modeling. Below is a helper function to evaluate a model with given dataset (with/without categorical variables). We can also employ a cross validation or full modeling.\n",
    "\n",
    "new_cols: with coded categorical variables\n",
    "\n",
    "x_cols: without the categorical variables, considering only the continuous variables."
   ]
  },
  {
   "cell_type": "code",
   "execution_count": 236,
   "metadata": {
    "scrolled": true
   },
   "outputs": [
    {
     "data": {
      "text/plain": [
       "(['symboling',\n",
       "  'normalized-losses',\n",
       "  'wheel-base',\n",
       "  'length',\n",
       "  'width',\n",
       "  'height',\n",
       "  'curb-weight',\n",
       "  'engine-size',\n",
       "  'bore',\n",
       "  'stroke',\n",
       "  'compression-rate',\n",
       "  'horsepower',\n",
       "  'peak-rpm',\n",
       "  'city-mpg',\n",
       "  'highway-mpg',\n",
       "  'make_audi',\n",
       "  'make_bmw',\n",
       "  'make_chevrolet',\n",
       "  'make_dodge',\n",
       "  'make_honda',\n",
       "  'make_jaguar',\n",
       "  'make_mazda',\n",
       "  'make_mercedes-benz',\n",
       "  'make_mitsubishi',\n",
       "  'make_nissan',\n",
       "  'make_peugot',\n",
       "  'make_plymouth',\n",
       "  'make_porsche',\n",
       "  'make_saab',\n",
       "  'make_subaru',\n",
       "  'make_toyota',\n",
       "  'make_volkswagen',\n",
       "  'make_volvo',\n",
       "  'fuel-type_diesel',\n",
       "  'fuel-type_gas',\n",
       "  'aspiration_std',\n",
       "  'aspiration_turbo',\n",
       "  'num-of-doors_four',\n",
       "  'num-of-doors_two',\n",
       "  'body-style_convertible',\n",
       "  'body-style_hardtop',\n",
       "  'body-style_hatchback',\n",
       "  'body-style_sedan',\n",
       "  'body-style_wagon',\n",
       "  'drive-wheels_4wd',\n",
       "  'drive-wheels_fwd',\n",
       "  'drive-wheels_rwd',\n",
       "  'engine-location_front',\n",
       "  'engine-type_dohc',\n",
       "  'engine-type_l',\n",
       "  'engine-type_ohc',\n",
       "  'engine-type_ohcf',\n",
       "  'engine-type_ohcv',\n",
       "  'num-of-cylinders_eight',\n",
       "  'num-of-cylinders_five',\n",
       "  'num-of-cylinders_four',\n",
       "  'num-of-cylinders_six',\n",
       "  'num-of-cylinders_three',\n",
       "  'fuel-system_1bbl',\n",
       "  'fuel-system_2bbl',\n",
       "  'fuel-system_idi',\n",
       "  'fuel-system_mfi',\n",
       "  'fuel-system_mpfi',\n",
       "  'fuel-system_spdi'],\n",
       " Index(['symboling', 'normalized-losses', 'wheel-base', 'length', 'width',\n",
       "        'height', 'curb-weight', 'engine-size', 'bore', 'stroke',\n",
       "        'compression-rate', 'horsepower', 'peak-rpm', 'city-mpg',\n",
       "        'highway-mpg'],\n",
       "       dtype='object'))"
      ]
     },
     "execution_count": 236,
     "metadata": {},
     "output_type": "execute_result"
    }
   ],
   "source": [
    "new_cols, x_cols"
   ]
  },
  {
   "cell_type": "code",
   "execution_count": 222,
   "metadata": {
    "collapsed": true
   },
   "outputs": [],
   "source": [
    "def evaluate_clf_2(clf, x, y, cv=None):\n",
    "    if cv is None:\n",
    "        clf.fit(x, y)\n",
    "        pred=clf.predict(x)\n",
    "        t = 'Full modelling:'\n",
    "    else:\n",
    "        pred = skms.cross_val_predict(clf, x, y, cv=cv)\n",
    "        t = 'XVal %s:' % cv\n",
    "    print('MSE %s %.3f' % (t, skm.mean_squared_error(y, pred)))\n",
    "    g=sns.scatterplot(x=y, y=pred)\n",
    "    aa=np.linspace(-2,5)\n",
    "    g.axes.plot(aa,aa, 'r')\n",
    "    g.axes.set_ylim(-2,5)\n",
    "    g.axes.set_xlim(-2,5)\n",
    "    plt.show()"
   ]
  },
  {
   "cell_type": "code",
   "execution_count": 230,
   "metadata": {},
   "outputs": [
    {
     "name": "stdout",
     "output_type": "stream",
     "text": [
      "MSE XVal LeaveOneOut(): 0.106\n"
     ]
    },
    {
     "data": {
      "image/png": "[encoded data removed]",
      "text/plain": [
       "<Figure size 432x288 with 1 Axes>"
      ]
     },
     "metadata": {},
     "output_type": "display_data"
    }
   ],
   "source": [
    "clf=sklm.LinearRegression()\n",
    "evaluate_clf_2(clf, df_new[new_cols], df_new['price'], cv=skms.LeaveOneOut())"
   ]
  },
  {
   "cell_type": "code",
   "execution_count": 237,
   "metadata": {},
   "outputs": [
    {
     "name": "stdout",
     "output_type": "stream",
     "text": [
      "MSE XVal LeaveOneOut(): 0.210\n"
     ]
    },
    {
     "data": {
      "image/png": "[encoded data removed]",
      "text/plain": [
       "<Figure size 432x288 with 1 Axes>"
      ]
     },
     "metadata": {},
     "output_type": "display_data"
    }
   ],
   "source": [
    "clf=sklm.LinearRegression()\n",
    "evaluate_clf_2(clf, df_new[x_cols], df_new['price'], cv=skms.LeaveOneOut())"
   ]
  },
  {
   "cell_type": "code",
   "execution_count": 231,
   "metadata": {},
   "outputs": [
    {
     "name": "stdout",
     "output_type": "stream",
     "text": [
      "MSE XVal LeaveOneOut(): 0.091\n"
     ]
    },
    {
     "data": {
      "image/png": "[encoded data removed]",
      "text/plain": [
       "<Figure size 432x288 with 1 Axes>"
      ]
     },
     "metadata": {},
     "output_type": "display_data"
    }
   ],
   "source": [
    "clf = xgb.XGBRegressor(n_jobs=2, random_state=1)\n",
    "evaluate_clf_2(clf, df_new[new_cols], df_new['price'], cv=skms.LeaveOneOut())"
   ]
  },
  {
   "cell_type": "code",
   "execution_count": 238,
   "metadata": {},
   "outputs": [
    {
     "name": "stdout",
     "output_type": "stream",
     "text": [
      "MSE XVal LeaveOneOut(): 0.090\n"
     ]
    },
    {
     "data": {
      "image/png": "[encoded data removed]",
      "text/plain": [
       "<Figure size 432x288 with 1 Axes>"
      ]
     },
     "metadata": {},
     "output_type": "display_data"
    }
   ],
   "source": [
    "clf = xgb.XGBRegressor(n_jobs=2, random_state=1)\n",
    "evaluate_clf_2(clf, df_new[x_cols], df_new['price'], cv=skms.LeaveOneOut())"
   ]
  },
  {
   "cell_type": "code",
   "execution_count": 232,
   "metadata": {},
   "outputs": [
    {
     "name": "stdout",
     "output_type": "stream",
     "text": [
      "MSE XVal LeaveOneOut(): 0.181\n"
     ]
    },
    {
     "data": {
      "image/png": "[encoded data removed]",
      "text/plain": [
       "<Figure size 432x288 with 1 Axes>"
      ]
     },
     "metadata": {},
     "output_type": "display_data"
    }
   ],
   "source": [
    "clf=sksvm.SVR(kernel='rbf')\n",
    "evaluate_clf_2(clf, df_new[new_cols], df_new['price'], cv=skms.LeaveOneOut())"
   ]
  },
  {
   "cell_type": "markdown",
   "metadata": {},
   "source": [
    "## From the quick experiments shown above, we can see that gradient boosting regressor outperformed the traditional logistic regression in leave one out cross validation (MSE 0.091 vs 0.106) considering both continuous and categorical variables. SVM with non-linear kernel (rbf) had the worst performance (MSE 0.181)\n",
    "\n",
    "## However, this dataset is rather clean and small. And it does not seem to contain any information related to history of the vehicles."
   ]
  },
  {
   "cell_type": "markdown",
   "metadata": {},
   "source": [
    "-----------\n",
    "Additional experiments below."
   ]
  },
  {
   "cell_type": "code",
   "execution_count": 214,
   "metadata": {},
   "outputs": [
    {
     "name": "stdout",
     "output_type": "stream",
     "text": [
      "MSE Full modelling: 0.011\n"
     ]
    },
    {
     "data": {
      "image/png": "[encoded data removed]",
      "text/plain": [
       "<Figure size 432x288 with 1 Axes>"
      ]
     },
     "metadata": {},
     "output_type": "display_data"
    }
   ],
   "source": [
    "clf=sken.GradientBoostingRegressor(min_samples_leaf=5, min_samples_split=7, random_state=1)\n",
    "evaluate_clf_2(clf, df_new[new_cols], df_new['price'])"
   ]
  },
  {
   "cell_type": "code",
   "execution_count": 215,
   "metadata": {},
   "outputs": [
    {
     "name": "stdout",
     "output_type": "stream",
     "text": [
      "MSE XVal LeaveOneOut(): 0.104\n"
     ]
    },
    {
     "data": {
      "image/png": "[encoded data removed]",
      "text/plain": [
       "<Figure size 432x288 with 1 Axes>"
      ]
     },
     "metadata": {},
     "output_type": "display_data"
    }
   ],
   "source": [
    "clf=sken.GradientBoostingRegressor(min_samples_leaf=5, min_samples_split=7, random_state=1)\n",
    "evaluate_clf_2(clf, df_new[new_cols], df_new['price'], cv=skms.LeaveOneOut())"
   ]
  },
  {
   "cell_type": "code",
   "execution_count": 218,
   "metadata": {},
   "outputs": [
    {
     "name": "stdout",
     "output_type": "stream",
     "text": [
      "MSE XVal LeaveOneOut(): 0.094\n"
     ]
    },
    {
     "data": {
      "image/png": "[encoded data removed]",
      "text/plain": [
       "<Figure size 432x288 with 1 Axes>"
      ]
     },
     "metadata": {},
     "output_type": "display_data"
    }
   ],
   "source": [
    "clf = xgb.XGBRegressor(n_estimators=200, n_jobs=2, random_state=1)\n",
    "evaluate_clf_2(clf, df_new[new_cols], df_new['price'], cv=skms.LeaveOneOut())"
   ]
  },
  {
   "cell_type": "code",
   "execution_count": 229,
   "metadata": {},
   "outputs": [
    {
     "name": "stdout",
     "output_type": "stream",
     "text": [
      "MSE XVal LeaveOneOut(): 0.093\n"
     ]
    },
    {
     "data": {
      "image/png": "[encoded data removed]",
      "text/plain": [
       "<Figure size 432x288 with 1 Axes>"
      ]
     },
     "metadata": {},
     "output_type": "display_data"
    }
   ],
   "source": [
    "clf = xgb.XGBRegressor(n_estimators=100, max_depth=4, learning_rate=0.1, n_jobs=2, random_state=1)\n",
    "evaluate_clf_2(clf, df_new[new_cols], df_new['price'], cv=skms.LeaveOneOut())"
   ]
  },
  {
   "cell_type": "code",
   "execution_count": 197,
   "metadata": {
    "collapsed": true
   },
   "outputs": [],
   "source": [
    "df_new_all=df.dropna(subset=['price'])\n",
    "new=pd.get_dummies(df_new_all[cat_cols])\n",
    "df_new_all=pd.concat([df_new_all[cont_cols], new], axis=1)\n",
    "new_cols=cont_cols.drop('price').tolist()+new.columns.tolist()"
   ]
  },
  {
   "cell_type": "code",
   "execution_count": 199,
   "metadata": {},
   "outputs": [
    {
     "data": {
      "text/plain": [
       "(201, 75)"
      ]
     },
     "execution_count": 199,
     "metadata": {},
     "output_type": "execute_result"
    }
   ],
   "source": [
    "df_new_all.shape"
   ]
  },
  {
   "cell_type": "code",
   "execution_count": 202,
   "metadata": {},
   "outputs": [
    {
     "name": "stdout",
     "output_type": "stream",
     "text": [
      "MSE XVal LeaveOneOut(): 4307793.546\n"
     ]
    },
    {
     "data": {
      "image/png": "[encoded data removed]",
      "text/plain": [
       "<Figure size 432x288 with 1 Axes>"
      ]
     },
     "metadata": {},
     "output_type": "display_data"
    }
   ],
   "source": [
    "clf = xgb.XGBRegressor(n_jobs=2, random_state=1, missing=np.nan)\n",
    "evaluate_clf_2(clf, df_new_all[new_cols], df_new_all['price'], cv=skms.LeaveOneOut())"
   ]
  },
  {
   "cell_type": "code",
   "execution_count": null,
   "metadata": {
    "collapsed": true
   },
   "outputs": [],
   "source": []
  }
 ],
 "metadata": {
  "kernelspec": {
   "display_name": "Python 2",
   "language": "python",
   "name": "python2"
  },
  "language_info": {
   "codemirror_mode": {
    "name": "ipython",
    "version": 2
   },
   "file_extension": ".py",
   "mimetype": "text/x-python",
   "name": "python",
   "nbconvert_exporter": "python",
   "pygments_lexer": "ipython2",
   "version": "2.7.14"
  }
 },
 "nbformat": 4,
 "nbformat_minor": 2
}
