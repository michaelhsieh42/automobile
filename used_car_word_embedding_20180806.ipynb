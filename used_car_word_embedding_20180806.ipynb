{
 "cells": [
  {
   "cell_type": "code",
   "execution_count": 1,
   "metadata": {},
   "outputs": [
    {
     "name": "stderr",
     "output_type": "stream",
     "text": [
      "C:\\Users\\michaelhsieh\\AppData\\Local\\conda\\conda\\envs\\DeepLearning\\lib\\site-packages\\h5py\\__init__.py:36: FutureWarning: Conversion of the second argument of issubdtype from `float` to `np.floating` is deprecated. In future, it will be treated as `np.float64 == np.dtype(float).type`.\n",
      "  from ._conv import register_converters as _register_converters\n",
      "Using TensorFlow backend.\n"
     ]
    }
   ],
   "source": [
    "from keras.preprocessing.text import one_hot\n",
    "from keras.preprocessing.sequence import pad_sequences\n",
    "from keras.models import Sequential\n",
    "from keras.layers import Dense, Dropout\n",
    "from keras.layers import Flatten\n",
    "from keras.layers.embeddings import Embedding\n",
    "import numpy as np\n",
    "import pandas as pd\n",
    "import matplotlib.pyplot as plt\n",
    "%matplotlib inline"
   ]
  },
  {
   "cell_type": "code",
   "execution_count": 2,
   "metadata": {
    "collapsed": true
   },
   "outputs": [],
   "source": [
    "df=pd.read_csv('autos.csv', encoding='Latin1', parse_dates=['dateCrawled', 'dateCreated', 'lastSeen'])"
   ]
  },
  {
   "cell_type": "code",
   "execution_count": 3,
   "metadata": {},
   "outputs": [
    {
     "data": {
      "text/plain": [
       "(359400, 20)"
      ]
     },
     "execution_count": 3,
     "metadata": {},
     "output_type": "execute_result"
    }
   ],
   "source": [
    "condition=(df.price>10)&(df.price!=12345678)&(df.price<2147483647)\n",
    "df[condition].shape"
   ]
  },
  {
   "cell_type": "code",
   "execution_count": 4,
   "metadata": {},
   "outputs": [
    {
     "data": {
      "text/plain": [
       "(371528, 20)"
      ]
     },
     "execution_count": 4,
     "metadata": {},
     "output_type": "execute_result"
    }
   ],
   "source": [
    "df.shape"
   ]
  },
  {
   "cell_type": "code",
   "execution_count": 5,
   "metadata": {},
   "outputs": [
    {
     "data": {
      "text/html": [
       "<div>\n",
       "<style scoped>\n",
       "    .dataframe tbody tr th:only-of-type {\n",
       "        vertical-align: middle;\n",
       "    }\n",
       "\n",
       "    .dataframe tbody tr th {\n",
       "        vertical-align: top;\n",
       "    }\n",
       "\n",
       "    .dataframe thead th {\n",
       "        text-align: right;\n",
       "    }\n",
       "</style>\n",
       "<table border=\"1\" class=\"dataframe\">\n",
       "  <thead>\n",
       "    <tr style=\"text-align: right;\">\n",
       "      <th></th>\n",
       "      <th>price</th>\n",
       "      <th>brand</th>\n",
       "      <th>model</th>\n",
       "      <th>yearOfRegistration</th>\n",
       "    </tr>\n",
       "  </thead>\n",
       "  <tbody>\n",
       "    <tr>\n",
       "      <th>128160</th>\n",
       "      <td>11</td>\n",
       "      <td>ford</td>\n",
       "      <td>escort</td>\n",
       "      <td>2000</td>\n",
       "    </tr>\n",
       "    <tr>\n",
       "      <th>108706</th>\n",
       "      <td>11</td>\n",
       "      <td>hyundai</td>\n",
       "      <td>i_reihe</td>\n",
       "      <td>2015</td>\n",
       "    </tr>\n",
       "    <tr>\n",
       "      <th>52696</th>\n",
       "      <td>11</td>\n",
       "      <td>sonstige_autos</td>\n",
       "      <td>NaN</td>\n",
       "      <td>2005</td>\n",
       "    </tr>\n",
       "    <tr>\n",
       "      <th>124098</th>\n",
       "      <td>11</td>\n",
       "      <td>sonstige_autos</td>\n",
       "      <td>NaN</td>\n",
       "      <td>1995</td>\n",
       "    </tr>\n",
       "    <tr>\n",
       "      <th>306468</th>\n",
       "      <td>11</td>\n",
       "      <td>audi</td>\n",
       "      <td>a4</td>\n",
       "      <td>1997</td>\n",
       "    </tr>\n",
       "  </tbody>\n",
       "</table>\n",
       "</div>"
      ],
      "text/plain": [
       "        price           brand    model  yearOfRegistration\n",
       "128160     11            ford   escort                2000\n",
       "108706     11         hyundai  i_reihe                2015\n",
       "52696      11  sonstige_autos      NaN                2005\n",
       "124098     11  sonstige_autos      NaN                1995\n",
       "306468     11            audi       a4                1997"
      ]
     },
     "execution_count": 5,
     "metadata": {},
     "output_type": "execute_result"
    }
   ],
   "source": [
    "df[condition][['price', 'brand', 'model', 'yearOfRegistration']].sort_values(by='price').head()"
   ]
  },
  {
   "cell_type": "code",
   "execution_count": 6,
   "metadata": {},
   "outputs": [
    {
     "data": {
      "text/plain": [
       "(341393, 4)"
      ]
     },
     "execution_count": 6,
     "metadata": {},
     "output_type": "execute_result"
    }
   ],
   "source": [
    "df[condition][['price', 'brand', 'model', 'yearOfRegistration']].dropna().shape"
   ]
  },
  {
   "cell_type": "code",
   "execution_count": 7,
   "metadata": {},
   "outputs": [
    {
     "name": "stdout",
     "output_type": "stream",
     "text": [
      "<class 'pandas.core.frame.DataFrame'>\n",
      "Int64Index: 359400 entries, 0 to 371527\n",
      "Data columns (total 4 columns):\n",
      "price                 359400 non-null int64\n",
      "brand                 359400 non-null object\n",
      "model                 341393 non-null object\n",
      "yearOfRegistration    359400 non-null int64\n",
      "dtypes: int64(2), object(2)\n",
      "memory usage: 13.7+ MB\n"
     ]
    }
   ],
   "source": [
    "df[condition][['price', 'brand', 'model', 'yearOfRegistration']].info()"
   ]
  },
  {
   "cell_type": "code",
   "execution_count": 8,
   "metadata": {
    "collapsed": true
   },
   "outputs": [],
   "source": [
    "df_sub=df[condition][['price', 'brand', 'model', 'yearOfRegistration']].copy()\n",
    "df_sub['model'].fillna(value='nan', inplace=True)"
   ]
  },
  {
   "cell_type": "code",
   "execution_count": 9,
   "metadata": {
    "scrolled": true
   },
   "outputs": [
    {
     "data": {
      "text/html": [
       "<div>\n",
       "<style scoped>\n",
       "    .dataframe tbody tr th:only-of-type {\n",
       "        vertical-align: middle;\n",
       "    }\n",
       "\n",
       "    .dataframe tbody tr th {\n",
       "        vertical-align: top;\n",
       "    }\n",
       "\n",
       "    .dataframe thead th {\n",
       "        text-align: right;\n",
       "    }\n",
       "</style>\n",
       "<table border=\"1\" class=\"dataframe\">\n",
       "  <thead>\n",
       "    <tr style=\"text-align: right;\">\n",
       "      <th></th>\n",
       "      <th>price</th>\n",
       "      <th>brand</th>\n",
       "      <th>model</th>\n",
       "      <th>yearOfRegistration</th>\n",
       "    </tr>\n",
       "  </thead>\n",
       "  <tbody>\n",
       "    <tr>\n",
       "      <th>128160</th>\n",
       "      <td>11</td>\n",
       "      <td>ford</td>\n",
       "      <td>escort</td>\n",
       "      <td>2000</td>\n",
       "    </tr>\n",
       "    <tr>\n",
       "      <th>108706</th>\n",
       "      <td>11</td>\n",
       "      <td>hyundai</td>\n",
       "      <td>i_reihe</td>\n",
       "      <td>2015</td>\n",
       "    </tr>\n",
       "    <tr>\n",
       "      <th>52696</th>\n",
       "      <td>11</td>\n",
       "      <td>sonstige_autos</td>\n",
       "      <td>nan</td>\n",
       "      <td>2005</td>\n",
       "    </tr>\n",
       "    <tr>\n",
       "      <th>124098</th>\n",
       "      <td>11</td>\n",
       "      <td>sonstige_autos</td>\n",
       "      <td>nan</td>\n",
       "      <td>1995</td>\n",
       "    </tr>\n",
       "    <tr>\n",
       "      <th>306468</th>\n",
       "      <td>11</td>\n",
       "      <td>audi</td>\n",
       "      <td>a4</td>\n",
       "      <td>1997</td>\n",
       "    </tr>\n",
       "  </tbody>\n",
       "</table>\n",
       "</div>"
      ],
      "text/plain": [
       "        price           brand    model  yearOfRegistration\n",
       "128160     11            ford   escort                2000\n",
       "108706     11         hyundai  i_reihe                2015\n",
       "52696      11  sonstige_autos      nan                2005\n",
       "124098     11  sonstige_autos      nan                1995\n",
       "306468     11            audi       a4                1997"
      ]
     },
     "execution_count": 9,
     "metadata": {},
     "output_type": "execute_result"
    }
   ],
   "source": [
    "df_sub.sort_values(by='price').head(5)"
   ]
  },
  {
   "cell_type": "code",
   "execution_count": 46,
   "metadata": {
    "collapsed": true
   },
   "outputs": [],
   "source": [
    "df_sub['auto_summary']=df_sub['brand']+' '+df_sub['model']+' '+df_sub['yearOfRegistration'].astype(str)"
   ]
  },
  {
   "cell_type": "code",
   "execution_count": 47,
   "metadata": {
    "collapsed": true
   },
   "outputs": [],
   "source": [
    "df_sub['log_price']=df_sub['price'].apply(np.log2)"
   ]
  },
  {
   "cell_type": "code",
   "execution_count": 48,
   "metadata": {},
   "outputs": [
    {
     "data": {
      "text/html": [
       "<div>\n",
       "<style scoped>\n",
       "    .dataframe tbody tr th:only-of-type {\n",
       "        vertical-align: middle;\n",
       "    }\n",
       "\n",
       "    .dataframe tbody tr th {\n",
       "        vertical-align: top;\n",
       "    }\n",
       "\n",
       "    .dataframe thead th {\n",
       "        text-align: right;\n",
       "    }\n",
       "</style>\n",
       "<table border=\"1\" class=\"dataframe\">\n",
       "  <thead>\n",
       "    <tr style=\"text-align: right;\">\n",
       "      <th></th>\n",
       "      <th>price</th>\n",
       "      <th>brand</th>\n",
       "      <th>model</th>\n",
       "      <th>yearOfRegistration</th>\n",
       "      <th>auto_summary</th>\n",
       "      <th>log_price</th>\n",
       "    </tr>\n",
       "  </thead>\n",
       "  <tbody>\n",
       "    <tr>\n",
       "      <th>0</th>\n",
       "      <td>480</td>\n",
       "      <td>volkswagen</td>\n",
       "      <td>golf</td>\n",
       "      <td>1993</td>\n",
       "      <td>volkswagen golf 1993</td>\n",
       "      <td>8.906891</td>\n",
       "    </tr>\n",
       "    <tr>\n",
       "      <th>1</th>\n",
       "      <td>18300</td>\n",
       "      <td>audi</td>\n",
       "      <td>nan</td>\n",
       "      <td>2011</td>\n",
       "      <td>audi nan 2011</td>\n",
       "      <td>14.159556</td>\n",
       "    </tr>\n",
       "    <tr>\n",
       "      <th>2</th>\n",
       "      <td>9800</td>\n",
       "      <td>jeep</td>\n",
       "      <td>grand</td>\n",
       "      <td>2004</td>\n",
       "      <td>jeep grand 2004</td>\n",
       "      <td>13.258566</td>\n",
       "    </tr>\n",
       "    <tr>\n",
       "      <th>3</th>\n",
       "      <td>1500</td>\n",
       "      <td>volkswagen</td>\n",
       "      <td>golf</td>\n",
       "      <td>2001</td>\n",
       "      <td>volkswagen golf 2001</td>\n",
       "      <td>10.550747</td>\n",
       "    </tr>\n",
       "    <tr>\n",
       "      <th>4</th>\n",
       "      <td>3600</td>\n",
       "      <td>skoda</td>\n",
       "      <td>fabia</td>\n",
       "      <td>2008</td>\n",
       "      <td>skoda fabia 2008</td>\n",
       "      <td>11.813781</td>\n",
       "    </tr>\n",
       "  </tbody>\n",
       "</table>\n",
       "</div>"
      ],
      "text/plain": [
       "   price       brand  model  yearOfRegistration          auto_summary  \\\n",
       "0    480  volkswagen   golf                1993  volkswagen golf 1993   \n",
       "1  18300        audi    nan                2011         audi nan 2011   \n",
       "2   9800        jeep  grand                2004       jeep grand 2004   \n",
       "3   1500  volkswagen   golf                2001  volkswagen golf 2001   \n",
       "4   3600       skoda  fabia                2008      skoda fabia 2008   \n",
       "\n",
       "   log_price  \n",
       "0   8.906891  \n",
       "1  14.159556  \n",
       "2  13.258566  \n",
       "3  10.550747  \n",
       "4  11.813781  "
      ]
     },
     "execution_count": 48,
     "metadata": {},
     "output_type": "execute_result"
    }
   ],
   "source": [
    "df_sub.head()"
   ]
  },
  {
   "cell_type": "code",
   "execution_count": 13,
   "metadata": {},
   "outputs": [
    {
     "name": "stdout",
     "output_type": "stream",
     "text": [
      "(40,)\n",
      "(252,)\n",
      "(144,)\n"
     ]
    }
   ],
   "source": [
    "for i in ['brand', 'model', 'yearOfRegistration']:\n",
    "    print(df_sub[i].unique().shape)"
   ]
  },
  {
   "cell_type": "code",
   "execution_count": 14,
   "metadata": {},
   "outputs": [
    {
     "data": {
      "text/plain": [
       "(8186,)"
      ]
     },
     "execution_count": 14,
     "metadata": {},
     "output_type": "execute_result"
    }
   ],
   "source": [
    "df_sub.auto_summary.unique().shape"
   ]
  },
  {
   "cell_type": "markdown",
   "metadata": {},
   "source": [
    "reference: https://machinelearningmastery.com/use-word-embedding-layers-deep-learning-keras/\n",
    "```python\n",
    "# define documents\n",
    "docs = ['Well done!',\n",
    "\t\t'Good work',\n",
    "\t\t'Great effort',\n",
    "\t\t'nice work',\n",
    "\t\t'Excellent!',\n",
    "\t\t'Weak',\n",
    "\t\t'Poor effort!',\n",
    "\t\t'not good',\n",
    "\t\t'poor work',\n",
    "\t\t'Could have done better.']\n",
    "# define class labels\n",
    "labels = array([1,1,1,1,1,0,0,0,0,0])\n",
    "# integer encode the documents\n",
    "vocab_size = 50\n",
    "encoded_docs = [one_hot(d, vocab_size) for d in docs]\n",
    "print(encoded_docs)\n",
    "# pad documents to a max length of 4 words\n",
    "max_length = 4\n",
    "padded_docs = pad_sequences(encoded_docs, maxlen=max_length, padding='post')\n",
    "print(padded_docs)\n",
    "# define the model\n",
    "model = Sequential()\n",
    "model.add(Embedding(vocab_size, 8, input_length=max_length))\n",
    "model.add(Flatten())\n",
    "model.add(Dense(1, activation='sigmoid'))\n",
    "# compile the model\n",
    "model.compile(optimizer='adam', loss='binary_crossentropy', metrics=['acc'])\n",
    "# summarize the model\n",
    "print(model.summary())\n",
    "# fit the model\n",
    "model.fit(padded_docs, labels, epochs=50, verbose=0)\n",
    "# evaluate the model\n",
    "loss, accuracy = model.evaluate(padded_docs, labels, verbose=0)\n",
    "print('Accuracy: %f' % (accuracy*100))\n",
    "```"
   ]
  },
  {
   "cell_type": "code",
   "execution_count": 49,
   "metadata": {
    "collapsed": true
   },
   "outputs": [],
   "source": [
    "vocab_size = 450\n",
    "max_length=3\n",
    "encoded_docs = [one_hot(d, vocab_size, filters='!\"#$%&()*+,./:;<=>?@[\\]^`{|}~') for d in df_sub.auto_summary]"
   ]
  },
  {
   "cell_type": "code",
   "execution_count": 50,
   "metadata": {},
   "outputs": [
    {
     "data": {
      "text/plain": [
       "[426, 357, 63]"
      ]
     },
     "execution_count": 50,
     "metadata": {},
     "output_type": "execute_result"
    }
   ],
   "source": [
    "encoded_docs[0]"
   ]
  },
  {
   "cell_type": "code",
   "execution_count": 51,
   "metadata": {
    "collapsed": true
   },
   "outputs": [],
   "source": [
    "padded_docs = pad_sequences(encoded_docs, maxlen=max_length, padding='post')"
   ]
  },
  {
   "cell_type": "code",
   "execution_count": 52,
   "metadata": {},
   "outputs": [
    {
     "data": {
      "text/plain": [
       "(359400, 3)"
      ]
     },
     "execution_count": 52,
     "metadata": {},
     "output_type": "execute_result"
    }
   ],
   "source": [
    "padded_docs.shape"
   ]
  },
  {
   "cell_type": "code",
   "execution_count": 53,
   "metadata": {},
   "outputs": [
    {
     "data": {
      "text/plain": [
       "array([[426, 357,  63],\n",
       "       [435,  22, 243],\n",
       "       [168, 428, 125],\n",
       "       [426, 357, 250],\n",
       "       [239, 173, 410],\n",
       "       [332, 306, 137],\n",
       "       [235,  56, 125],\n",
       "       [387, 118, 371],\n",
       "       [426, 357,  47],\n",
       "       [150,  18, 125]])"
      ]
     },
     "execution_count": 53,
     "metadata": {},
     "output_type": "execute_result"
    }
   ],
   "source": [
    "padded_docs[0:10]"
   ]
  },
  {
   "cell_type": "code",
   "execution_count": 54,
   "metadata": {},
   "outputs": [
    {
     "name": "stdout",
     "output_type": "stream",
     "text": [
      "volkswagen golf 1993\n",
      "audi nan 2011\n",
      "jeep grand 2004\n",
      "volkswagen golf 2001\n",
      "skoda fabia 2008\n",
      "bmw 3er 1995\n",
      "peugeot 2_reihe 2004\n",
      "ford c_max 2014\n",
      "volkswagen golf 1998\n",
      "mazda 3_reihe 2004\n"
     ]
    }
   ],
   "source": [
    "for d in df_sub.auto_summary[:10]:\n",
    "    print(d)"
   ]
  },
  {
   "cell_type": "markdown",
   "metadata": {},
   "source": [
    "Regression with Keras (ref: https://machinelearningmastery.com/regression-tutorial-keras-deep-learning-library-python/)"
   ]
  },
  {
   "cell_type": "code",
   "execution_count": 55,
   "metadata": {},
   "outputs": [
    {
     "name": "stdout",
     "output_type": "stream",
     "text": [
      "_________________________________________________________________\n",
      "Layer (type)                 Output Shape              Param #   \n",
      "=================================================================\n",
      "embedding_3 (Embedding)      (None, 3, 100)            45000     \n",
      "_________________________________________________________________\n",
      "flatten_3 (Flatten)          (None, 300)               0         \n",
      "_________________________________________________________________\n",
      "dense_5 (Dense)              (None, 10)                3010      \n",
      "_________________________________________________________________\n",
      "dropout_3 (Dropout)          (None, 10)                0         \n",
      "_________________________________________________________________\n",
      "dense_6 (Dense)              (None, 1)                 11        \n",
      "=================================================================\n",
      "Total params: 48,021\n",
      "Trainable params: 48,021\n",
      "Non-trainable params: 0\n",
      "_________________________________________________________________\n",
      "None\n"
     ]
    }
   ],
   "source": [
    "vector_size=100\n",
    "model = Sequential()\n",
    "model.add(Embedding(vocab_size, vector_size, input_length=max_length))\n",
    "model.add(Flatten())\n",
    "model.add(Dense(10, activation='relu'))\n",
    "model.add(Dropout(0.2))\n",
    "model.add(Dense(1))\n",
    "# compile the model\n",
    "model.compile(optimizer='adam', loss='mean_squared_error')\n",
    "# summarize the model\n",
    "print(model.summary())"
   ]
  },
  {
   "cell_type": "code",
   "execution_count": 56,
   "metadata": {
    "scrolled": true
   },
   "outputs": [
    {
     "name": "stdout",
     "output_type": "stream",
     "text": [
      "Epoch 1/15\n",
      "359400/359400 [==============================] - 8s 22us/step - loss: 8.8422\n",
      "Epoch 2/15\n",
      "359400/359400 [==============================] - 8s 21us/step - loss: 4.9934\n",
      "Epoch 3/15\n",
      "359400/359400 [==============================] - 8s 22us/step - loss: 3.5201\n",
      "Epoch 4/15\n",
      "359400/359400 [==============================] - 8s 22us/step - loss: 2.3475\n",
      "Epoch 5/15\n",
      "359400/359400 [==============================] - 8s 22us/step - loss: 1.6113\n",
      "Epoch 6/15\n",
      "359400/359400 [==============================] - 8s 21us/step - loss: 1.2306\n",
      "Epoch 7/15\n",
      "359400/359400 [==============================] - 8s 21us/step - loss: 1.0968\n",
      "Epoch 8/15\n",
      "359400/359400 [==============================] - 8s 21us/step - loss: 1.0637\n",
      "Epoch 9/15\n",
      "359400/359400 [==============================] - 8s 22us/step - loss: 1.0552\n",
      "Epoch 10/15\n",
      "359400/359400 [==============================] - 8s 21us/step - loss: 1.0497\n",
      "Epoch 11/15\n",
      "359400/359400 [==============================] - 8s 22us/step - loss: 1.0422\n",
      "Epoch 12/15\n",
      "359400/359400 [==============================] - 8s 22us/step - loss: 1.0371\n",
      "Epoch 13/15\n",
      "359400/359400 [==============================] - 8s 22us/step - loss: 1.0378\n",
      "Epoch 14/15\n",
      "359400/359400 [==============================] - 8s 22us/step - loss: 1.0377\n",
      "Epoch 15/15\n",
      "359400/359400 [==============================] - 8s 22us/step - loss: 1.0336\n",
      "359400/359400 [==============================] - 11s 30us/step\n"
     ]
    }
   ],
   "source": [
    "model.fit(padded_docs, df_sub['log_price'].values, batch_size=128, epochs=15, verbose=1)\n",
    "# evaluate the model\n",
    "loss = model.evaluate(padded_docs, df_sub['log_price'].values, verbose=1)"
   ]
  },
  {
   "cell_type": "code",
   "execution_count": 57,
   "metadata": {},
   "outputs": [
    {
     "data": {
      "text/plain": [
       "0.9079726202088592"
      ]
     },
     "execution_count": 57,
     "metadata": {},
     "output_type": "execute_result"
    }
   ],
   "source": [
    "loss"
   ]
  },
  {
   "cell_type": "code",
   "execution_count": 58,
   "metadata": {
    "collapsed": true
   },
   "outputs": [],
   "source": [
    "emb_layer=model.layers[0]"
   ]
  },
  {
   "cell_type": "code",
   "execution_count": 59,
   "metadata": {},
   "outputs": [
    {
     "data": {
      "text/plain": [
       "(450, 100)"
      ]
     },
     "execution_count": 59,
     "metadata": {},
     "output_type": "execute_result"
    }
   ],
   "source": [
    "emb_layer.get_weights()[0].shape"
   ]
  },
  {
   "cell_type": "code",
   "execution_count": 60,
   "metadata": {},
   "outputs": [
    {
     "data": {
      "text/plain": [
       "array([ 0.00750045,  0.01512431,  0.00176346, -0.00816358,  0.0417742 ,\n",
       "        0.03024692,  0.02125682,  0.04218357, -0.04187945,  0.04398079,\n",
       "       -0.02553274, -0.01705325, -0.01612756,  0.0141019 ,  0.02500857,\n",
       "       -0.01592666, -0.00509534, -0.04201967, -0.04309152, -0.00437183,\n",
       "       -0.01314082,  0.01009002,  0.03633268,  0.00156967,  0.04936292,\n",
       "        0.02976843, -0.02588004,  0.01858689, -0.00276369, -0.01981856,\n",
       "        0.00106769,  0.00072317, -0.03175092, -0.03523252,  0.01967465,\n",
       "       -0.03135607,  0.00908231, -0.04428884, -0.04629911, -0.01715754,\n",
       "        0.03872713,  0.04380004, -0.01591764, -0.01151586, -0.02078294,\n",
       "       -0.02471521,  0.03468596, -0.02686406, -0.0369907 , -0.0096401 ,\n",
       "       -0.02481862,  0.00635648,  0.00479283, -0.01691762, -0.00392096,\n",
       "       -0.03430712,  0.0162652 ,  0.00221605, -0.04398265,  0.01760236,\n",
       "        0.00649593,  0.0274086 ,  0.00880487, -0.02549515, -0.00959283,\n",
       "       -0.00154624, -0.02941544,  0.03314671,  0.01766362,  0.04303778,\n",
       "       -0.00532449,  0.04207647,  0.02725866, -0.03038801, -0.00640724,\n",
       "       -0.01649648,  0.02037872, -0.006276  ,  0.04593029,  0.04947067,\n",
       "       -0.04407339,  0.02687019,  0.02486502, -0.01667958,  0.00265732,\n",
       "        0.04942283, -0.035778  , -0.01225495, -0.03561934, -0.03501135,\n",
       "        0.00567603, -0.02893409, -0.04872482, -0.01997471, -0.00259689,\n",
       "       -0.03519528,  0.00134537, -0.0029834 ,  0.00457428, -0.00379199],\n",
       "      dtype=float32)"
      ]
     },
     "execution_count": 60,
     "metadata": {},
     "output_type": "execute_result"
    }
   ],
   "source": [
    "emb_layer.get_weights()[0][0]"
   ]
  },
  {
   "cell_type": "code",
   "execution_count": 61,
   "metadata": {
    "collapsed": true
   },
   "outputs": [],
   "source": [
    "from sklearn.manifold import TSNE\n",
    "tsne = TSNE(perplexity=30, n_components=2, init='pca', n_iter=5000, method='exact')\n",
    "low_dim_embs = tsne.fit_transform(emb_layer.get_weights()[0][:500,:])"
   ]
  },
  {
   "cell_type": "code",
   "execution_count": 62,
   "metadata": {},
   "outputs": [
    {
     "data": {
      "text/plain": [
       "3"
      ]
     },
     "execution_count": 62,
     "metadata": {},
     "output_type": "execute_result"
    }
   ],
   "source": [
    "length=[len(i) for i in encoded_docs]\n",
    "np.array(length).max()"
   ]
  },
  {
   "cell_type": "code",
   "execution_count": 63,
   "metadata": {},
   "outputs": [
    {
     "data": {
      "text/plain": [
       "([426, 357, 63], 359400)"
      ]
     },
     "execution_count": 63,
     "metadata": {},
     "output_type": "execute_result"
    }
   ],
   "source": [
    "encoded_docs[0], len(encoded_docs)"
   ]
  },
  {
   "cell_type": "code",
   "execution_count": 65,
   "metadata": {
    "collapsed": true
   },
   "outputs": [],
   "source": [
    "word_dict={}\n",
    "for i in range(len(encoded_docs)):\n",
    "    for j in range(len(encoded_docs[i])):\n",
    "        if encoded_docs[i][j] in word_dict:\n",
    "            #print(i, j, word_dict[encoded_docs[i][j]])\n",
    "            continue\n",
    "        else:\n",
    "            #print(encoded_docs[i][j], df_sub.auto_summary.tolist()[i].split(' ')[j])\n",
    "            word_dict[encoded_docs[i][j]]=df_sub.auto_summary.tolist()[i].split(' ')[j]\n",
    "aa=word_dict.keys()\n",
    "word_keys=sorted(list(aa))"
   ]
  },
  {
   "cell_type": "code",
   "execution_count": 66,
   "metadata": {
    "scrolled": true
   },
   "outputs": [
    {
     "data": {
      "text/plain": [
       "{2: 'caddy',\n",
       " 4: 'fiesta',\n",
       " 8: '2012',\n",
       " 12: 'trabant',\n",
       " 13: '1000',\n",
       " 14: '1984',\n",
       " 15: 'i_reihe',\n",
       " 16: '1951',\n",
       " 17: '3800',\n",
       " 18: '3_reihe',\n",
       " 20: 'clk',\n",
       " 21: 'tigra',\n",
       " 22: 'nan',\n",
       " 23: '1940',\n",
       " 25: 'porsche',\n",
       " 26: 'lancia',\n",
       " 27: 'sorento',\n",
       " 32: '2005',\n",
       " 33: 'honda',\n",
       " 35: '1_reihe',\n",
       " 37: '1983',\n",
       " 39: '300c',\n",
       " 41: '2007',\n",
       " 44: 'alfa_romeo',\n",
       " 45: '2002',\n",
       " 46: '5_reihe',\n",
       " 47: '1998',\n",
       " 49: '850',\n",
       " 51: 'mercedes_benz',\n",
       " 52: 'v70',\n",
       " 53: 'chevrolet',\n",
       " 55: 'combo',\n",
       " 56: '2_reihe',\n",
       " 57: 'vectra',\n",
       " 60: 'getz',\n",
       " 61: 'up',\n",
       " 63: '1993',\n",
       " 64: 'transporter',\n",
       " 65: 'espace',\n",
       " 66: '1978',\n",
       " 68: 'q5',\n",
       " 70: 'scirocco',\n",
       " 71: 'fiat',\n",
       " 73: 'colt',\n",
       " 74: '1954',\n",
       " 75: '1989',\n",
       " 79: 'b_klasse',\n",
       " 84: 'accord',\n",
       " 85: 'almera',\n",
       " 87: 'lodgy',\n",
       " 92: 'volvo',\n",
       " 98: 'swift',\n",
       " 99: '1960',\n",
       " 100: 'verso',\n",
       " 102: 'logan',\n",
       " 104: '1971',\n",
       " 107: 'citigo',\n",
       " 108: 'fortwo',\n",
       " 111: '1976',\n",
       " 112: '1800',\n",
       " 113: 'forester',\n",
       " 114: 'primera',\n",
       " 116: '1001',\n",
       " 118: 'c_max',\n",
       " 120: 'v40',\n",
       " 121: 'cooper',\n",
       " 122: 'm_klasse',\n",
       " 123: 'hyundai',\n",
       " 124: 'opel',\n",
       " 125: '2004',\n",
       " 127: 'octavia',\n",
       " 128: 'spider',\n",
       " 130: 'justy',\n",
       " 131: '4_reihe',\n",
       " 132: 'v50',\n",
       " 133: '7777',\n",
       " 134: 'lybra',\n",
       " 135: 'tt',\n",
       " 136: 'navara',\n",
       " 137: '1995',\n",
       " 138: 'cl',\n",
       " 139: 'ka',\n",
       " 140: 'tiguan',\n",
       " 142: 'glk',\n",
       " 146: 'c1',\n",
       " 147: 'meriva',\n",
       " 149: '1972',\n",
       " 150: 'mazda',\n",
       " 151: 'croma',\n",
       " 153: '2000',\n",
       " 154: '1975',\n",
       " 155: '1602',\n",
       " 156: '2010',\n",
       " 157: '6200',\n",
       " 158: '1910',\n",
       " 160: '1953',\n",
       " 162: 'ducato',\n",
       " 163: 'a8',\n",
       " 164: 'kangoo',\n",
       " 166: 'q3',\n",
       " 168: 'jeep',\n",
       " 170: '5600',\n",
       " 172: 'musa',\n",
       " 173: 'fabia',\n",
       " 177: '5300',\n",
       " 178: 'galant',\n",
       " 179: 'nissan',\n",
       " 180: '1981',\n",
       " 181: '2015',\n",
       " 182: 's_max',\n",
       " 183: 'alhambra',\n",
       " 185: '1039',\n",
       " 186: '1994',\n",
       " 189: '1982',\n",
       " 193: '1996',\n",
       " 194: 'gl',\n",
       " 195: 'v60',\n",
       " 196: '6_reihe',\n",
       " 197: 'toyota',\n",
       " 199: 'boxster',\n",
       " 200: '1600',\n",
       " 201: 'lupo',\n",
       " 202: 'one',\n",
       " 204: '9999',\n",
       " 205: '1997',\n",
       " 209: 'rover',\n",
       " 211: 'sprinter',\n",
       " 212: 'civic',\n",
       " 213: 'focus',\n",
       " 216: '1923',\n",
       " 217: 'signum',\n",
       " 220: '5er',\n",
       " 221: 'samara',\n",
       " 222: '1992',\n",
       " 223: '1944',\n",
       " 225: '2200',\n",
       " 226: 'mondeo',\n",
       " 227: 'r19',\n",
       " 228: '1999',\n",
       " 232: 'sirion',\n",
       " 234: 'e_klasse',\n",
       " 235: 'peugeot',\n",
       " 236: 'modus',\n",
       " 238: '7500',\n",
       " 239: 'skoda',\n",
       " 240: 'mustang',\n",
       " 241: 'kadett',\n",
       " 243: '2011',\n",
       " 245: 'serie_3',\n",
       " 247: 'andere',\n",
       " 248: 'beetle',\n",
       " 249: 'v_klasse',\n",
       " 250: '2001',\n",
       " 251: 'insignia',\n",
       " 252: 'micra',\n",
       " 253: 'touran',\n",
       " 255: 'exeo',\n",
       " 258: '4000',\n",
       " 261: 'picanto',\n",
       " 262: 'juke',\n",
       " 263: '1927',\n",
       " 264: 'twingo',\n",
       " 267: '5900',\n",
       " 269: 'kuga',\n",
       " 270: 'range_rover_evoque',\n",
       " 271: '200',\n",
       " 272: 'carisma',\n",
       " 275: '2900',\n",
       " 277: 'c2',\n",
       " 279: 'yaris',\n",
       " 283: '6er',\n",
       " 284: '156',\n",
       " 285: 'mini',\n",
       " 286: 'superb',\n",
       " 287: 'touareg',\n",
       " 288: 'captiva',\n",
       " 290: '1933',\n",
       " 291: 'discovery_sport',\n",
       " 292: 'a1',\n",
       " 295: 'omega',\n",
       " 296: 'mitsubishi',\n",
       " 297: 'ibiza',\n",
       " 298: 'freelander',\n",
       " 299: '2009',\n",
       " 301: 'stilo',\n",
       " 303: 'impreza',\n",
       " 304: 'altea',\n",
       " 305: 'escort',\n",
       " 306: '3er',\n",
       " 309: 'citroen',\n",
       " 311: 'mii',\n",
       " 312: '1979',\n",
       " 313: '900',\n",
       " 314: 'rav',\n",
       " 317: 'punto',\n",
       " 320: '2016',\n",
       " 321: 'move',\n",
       " 322: 'yeti',\n",
       " 323: '1986',\n",
       " 324: 'aygo',\n",
       " 325: '7er',\n",
       " 327: 'jaguar',\n",
       " 328: 'fox',\n",
       " 330: 'dacia',\n",
       " 331: 'defender',\n",
       " 332: 'bmw',\n",
       " 333: 'a6',\n",
       " 334: 'rangerover',\n",
       " 335: 'vivaro',\n",
       " 342: 'kaefer',\n",
       " 345: '1973',\n",
       " 346: 'cx_reihe',\n",
       " 351: 'a3',\n",
       " 356: 'renault',\n",
       " 357: 'golf',\n",
       " 358: 'sharan',\n",
       " 364: 'passat',\n",
       " 365: 'nubira',\n",
       " 366: 'rx_reihe',\n",
       " 368: 'z_reihe',\n",
       " 369: 'astra',\n",
       " 370: 'zafira',\n",
       " 371: '2014',\n",
       " 374: 'transit',\n",
       " 375: '1990',\n",
       " 376: 'smart',\n",
       " 377: '90',\n",
       " 378: 'b_max',\n",
       " 379: '1958',\n",
       " 381: 'clubman',\n",
       " 382: 'suzuki',\n",
       " 383: '1987',\n",
       " 385: 'm_reihe',\n",
       " 386: '1959',\n",
       " 387: 'ford',\n",
       " 388: 'spark',\n",
       " 392: 'antara',\n",
       " 394: 'eos',\n",
       " 395: 'jetta',\n",
       " 396: 'range_rover',\n",
       " 397: '2017',\n",
       " 399: 'cherokee',\n",
       " 400: 'rio',\n",
       " 401: 'a4',\n",
       " 404: 'cordoba',\n",
       " 405: '6000',\n",
       " 406: '2500',\n",
       " 409: '1942',\n",
       " 410: '2008',\n",
       " 411: 'delta',\n",
       " 412: 'a5',\n",
       " 413: '1932',\n",
       " 414: 'duster',\n",
       " 416: '1964',\n",
       " 417: '1er',\n",
       " 419: '8500',\n",
       " 423: '1234',\n",
       " 424: 'avensis',\n",
       " 425: 'chrysler',\n",
       " 426: 'volkswagen',\n",
       " 427: '2003',\n",
       " 428: 'grand',\n",
       " 430: 'a_klasse',\n",
       " 433: 'ceed',\n",
       " 435: 'audi',\n",
       " 436: 'subaru',\n",
       " 437: 'kia',\n",
       " 438: 'scenic',\n",
       " 439: '1968',\n",
       " 443: 'daihatsu',\n",
       " 444: 'xc_reihe',\n",
       " 445: 'vito',\n",
       " 446: 'polo',\n",
       " 448: '1947'}"
      ]
     },
     "execution_count": 66,
     "metadata": {},
     "output_type": "execute_result"
    }
   ],
   "source": [
    "word_dict"
   ]
  },
  {
   "cell_type": "code",
   "execution_count": 68,
   "metadata": {},
   "outputs": [
    {
     "data": {
      "image/png": "[encoded data removed]",
      "text/plain": [
       "<matplotlib.figure.Figure at 0x1c87d9cab38>"
      ]
     },
     "metadata": {},
     "output_type": "display_data"
    }
   ],
   "source": [
    "plt.figure(figsize=(18, 18))\n",
    "for i, key in enumerate(word_keys[:100]):\n",
    "    x, y = low_dim_embs[i, :]\n",
    "    plt.scatter(x, y)\n",
    "    plt.annotate(\n",
    "        word_dict[key],\n",
    "        xy=(x, y),\n",
    "        xytext=(5, 2),\n",
    "        textcoords='offset points',\n",
    "        ha='right',\n",
    "        va='bottom')"
   ]
  },
  {
   "cell_type": "code",
   "execution_count": null,
   "metadata": {
    "collapsed": true
   },
   "outputs": [],
   "source": []
  }
 ],
 "metadata": {
  "kernelspec": {
   "display_name": "Python 2",
   "language": "python",
   "name": "python2"
  },
  "language_info": {
   "codemirror_mode": {
    "name": "ipython",
    "version": 2
   },
   "file_extension": ".py",
   "mimetype": "text/x-python",
   "name": "python",
   "nbconvert_exporter": "python",
   "pygments_lexer": "ipython2",
   "version": "2.7.14"
  }
 },
 "nbformat": 4,
 "nbformat_minor": 2
}
